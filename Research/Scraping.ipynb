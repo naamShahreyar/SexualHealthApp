{
 "cells": [
  {
   "cell_type": "code",
   "execution_count": 1,
   "metadata": {},
   "outputs": [
    {
     "name": "stdout",
     "output_type": "stream",
     "text": [
      "Downloading https://www.who.int/en/news-room/fact-sheets/detail/sexually-transmitted-infections-(stis)...\n",
      "Downloading https://www.cdc.gov/syphilis/about/index.html...\n",
      "Downloading https://www.cdc.gov/gonorrhea/about/index.html...\n",
      "Downloading https://www.cdc.gov/sti/about/about-genital-hpv-infection.html...\n",
      "Downloading https://www.cdc.gov/sti/about/about-sti-risk-and-oral-sex.html...\n",
      "Downloading https://www.cdc.gov/hiv/about/index.html...\n",
      "Downloading https://www.cdc.gov/hiv/causes/index.html...\n",
      "Downloading https://www.cdc.gov/hiv/prevention/index.html...\n",
      "Downloading https://my.clevelandclinic.org/health/diseases/4251-hiv-aids...\n",
      "Downloading https://my.clevelandclinic.org/health/diseases/22855-herpes-simplex...\n",
      "Downloading https://my.clevelandclinic.org/health/diseases/11901-hpv-human-papilloma-virus...\n",
      "Downloading https://my.clevelandclinic.org/health/diseases/4023-chlamydia...\n",
      "Downloading https://my.clevelandclinic.org/health/diseases/4622-syphilis...\n",
      "Downloading https://my.clevelandclinic.org/health/diseases/4217-gonorrhea...\n",
      "Downloading https://en.wikipedia.org/wiki/Sexual_and_reproductive_health...\n"
     ]
    }
   ],
   "source": [
    "import os\n",
    "import requests\n",
    "from bs4 import BeautifulSoup\n",
    "from urllib.parse import urljoin\n",
    "\n",
    "DATA_DIR = \"data/raw\"\n",
    "os.makedirs(DATA_DIR, exist_ok=True)\n",
    "\n",
    "def download_html(url, filename):\n",
    "    html = requests.get(url, timeout=10).text\n",
    "    soup = BeautifulSoup(html, \"html.parser\")\n",
    "    # remove scripts/styles\n",
    "    for tag in soup([\"script\", \"style\", \"header\", \"footer\", \"nav\"]):\n",
    "        tag.extract()\n",
    "    text = soup.get_text(separator=\"\\n\", strip=True)\n",
    "    with open(os.path.join(DATA_DIR, filename), \"w\", encoding=\"utf-8\") as f:\n",
    "        f.write(text)\n",
    "\n",
    "sources = {\n",
    "    \"WHO_STD.txt\": \"https://www.who.int/en/news-room/fact-sheets/detail/sexually-transmitted-infections-(stis)\",\n",
    "    \"CDC_Syphilis.txt\": \"https://www.cdc.gov/syphilis/about/index.html\",\n",
    "    \"CDC_Gonorrhea.txt\": \"https://www.cdc.gov/gonorrhea/about/index.html\",\n",
    "    \"CDC_HPV.txt\": \"https://www.cdc.gov/sti/about/about-genital-hpv-infection.html\",\n",
    "    \"CDC_OralSex.txt\": \"https://www.cdc.gov/sti/about/about-sti-risk-and-oral-sex.html\",\n",
    "    \"CDC_HIV1.txt\": \"https://www.cdc.gov/hiv/about/index.html\",\n",
    "    \"CDC_HIV2.txt\": \"https://www.cdc.gov/hiv/causes/index.html\",\n",
    "    \"CDC_HIV3.txt\": \"https://www.cdc.gov/hiv/prevention/index.html\",\n",
    "    \"CleavelandClinic_HIV.txt\": \"https://my.clevelandclinic.org/health/diseases/4251-hiv-aids\",\n",
    "    \"CleavelandClinic_HSV.txt\": \"https://my.clevelandclinic.org/health/diseases/22855-herpes-simplex\",\n",
    "    \"CleavelandClinic_HPV.txt\": \"https://my.clevelandclinic.org/health/diseases/11901-hpv-human-papilloma-virus\",\n",
    "    \"CleavelandClinic_Chlamydia.txt\": 'https://my.clevelandclinic.org/health/diseases/4023-chlamydia',\n",
    "    \"CleavelandClinic_Syphilis.txt\": \"https://my.clevelandclinic.org/health/diseases/4622-syphilis\",\n",
    "    \"CleavelandClinic_Gonorrhea.txt\": \"https://my.clevelandclinic.org/health/diseases/4217-gonorrhea\",\n",
    "    \"Wikipedia_SexualHealth.txt\": \"https://en.wikipedia.org/wiki/Sexual_and_reproductive_health\",\n",
    "}\n",
    "\n",
    "for filename, url in sources.items():\n",
    "    print(f\"Downloading {url}...\")\n",
    "    download_html(url, filename)\n"
   ]
  },
  {
   "cell_type": "code",
   "execution_count": 2,
   "metadata": {},
   "outputs": [],
   "source": [
    "import json\n",
    "with open(\"sources.json\", \"w\", encoding=\"utf-8\") as f:\n",
    "    json.dump(sources, f, ensure_ascii=False, indent=2)"
   ]
  },
  {
   "cell_type": "code",
   "execution_count": null,
   "metadata": {},
   "outputs": [],
   "source": []
  }
 ],
 "metadata": {
  "kernelspec": {
   "display_name": "shah",
   "language": "python",
   "name": "python3"
  },
  "language_info": {
   "codemirror_mode": {
    "name": "ipython",
    "version": 3
   },
   "file_extension": ".py",
   "mimetype": "text/x-python",
   "name": "python",
   "nbconvert_exporter": "python",
   "pygments_lexer": "ipython3",
   "version": "3.8.19"
  }
 },
 "nbformat": 4,
 "nbformat_minor": 2
}
