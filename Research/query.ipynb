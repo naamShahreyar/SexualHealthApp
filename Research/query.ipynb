{
 "cells": [
  {
   "cell_type": "code",
   "execution_count": 1,
   "metadata": {},
   "outputs": [
    {
     "name": "stderr",
     "output_type": "stream",
     "text": [
      "/home/cloudcraftz/anaconda3/envs/rag/lib/python3.10/site-packages/tqdm/auto.py:21: TqdmWarning: IProgress not found. Please update jupyter and ipywidgets. See https://ipywidgets.readthedocs.io/en/stable/user_install.html\n",
      "  from .autonotebook import tqdm as notebook_tqdm\n"
     ]
    }
   ],
   "source": [
    "from langchain_huggingface import HuggingFaceEmbeddings\n",
    "\n",
    "embeddings = HuggingFaceEmbeddings(model_name=\"all-mpnet-base-v2\")"
   ]
  },
  {
   "cell_type": "code",
   "execution_count": 2,
   "metadata": {},
   "outputs": [],
   "source": [
    "from langchain_qdrant import QdrantVectorStore\n",
    "from qdrant_client import QdrantClient"
   ]
  },
  {
   "cell_type": "code",
   "execution_count": 4,
   "metadata": {},
   "outputs": [],
   "source": [
    "qdrant = QdrantVectorStore.from_existing_collection(\n",
    "    embedding=embeddings,\n",
    "    collection_name=\"demo_collection\",\n",
    "    path=\"./tmp/langchain_qdrant\"\n",
    ")"
   ]
  },
  {
   "cell_type": "code",
   "execution_count": 48,
   "metadata": {},
   "outputs": [],
   "source": [
    "import requests\n",
    "import json"
   ]
  },
  {
   "cell_type": "code",
   "execution_count": 59,
   "metadata": {},
   "outputs": [],
   "source": [
    "def get_answer(question):\n",
    "    \n",
    "    results = qdrant.similarity_search(\n",
    "    question, k=5)\n",
    "\n",
    "    retrieved_info = \"\"\n",
    "    for i, res in enumerate(results):\n",
    "        retrieved_info += f\"Chunk {i+1}:\\n{res.page_content}\\nSource: {res.metadata['source']}\\nUrl: {res.metadata['url']}\\n\\n\"\n",
    "\n",
    "    prompt = f\"\"\"\n",
    "                You are a helpful medical assistant. You are required to answer users questions with the help of provided chunks only. If the chunks does not contain  the answer, politely say that Sorry I dont know the answer and dont give any information. \n",
    "                Each chunk also has source and url. if you are answering from a chunk, do mention the source and url with the answer.\n",
    "                Question : {question}\n",
    "                Chunks\" {retrieved_info}\n",
    "            \"\"\"\n",
    "    \n",
    "    # API request to Ollama\n",
    "    url = \"http://localhost:11434/api/generate\"\n",
    "    payload = {\n",
    "        \"model\": \"gemma3:4b\",\n",
    "        \"prompt\": prompt,\n",
    "        \"stream\": True\n",
    "    }\n",
    "\n",
    "    with requests.post(url, json=payload, stream=True) as r:\n",
    "        for line in r.iter_lines():\n",
    "            if line:\n",
    "                data = json.loads(line)\n",
    "                # Each chunk contains part of the response in 'response'\n",
    "                print(data.get(\"response\", \"\"), end=\"\", flush=True)\n",
    "\n",
    "    print()  # final newline\n",
    "    \n",
    "    "
   ]
  },
  {
   "cell_type": "code",
   "execution_count": 61,
   "metadata": {},
   "outputs": [
    {
     "name": "stdout",
     "output_type": "stream",
     "text": [
      "To treat gonorrhoeae, you’ll need antibiotics. Typically, this involves one shot (injection) of ceftriaxone. Your provider will determine your dosage based on your weight. If you’re allergic to ceftriaxone, your healthcare provider may give you a shot of gentamicin plus azithromycin, which is an antibiotic you take orally. (Source: CleavelandClinic, Url: https://my.clevelandclinic.org/health/diseases/4217-gonorrhea) \n",
      "\n",
      "Additionally, your provider may prescribe additional medication, like doxycycline, to clear a co-infection with chlamydia. (Source: CleavelandClinic, Url: https://my.clevelandclinic.org/health/diseases/4217-gonorrhea)\n"
     ]
    }
   ],
   "source": [
    "question = \"what treatments are there for gonorrhoeae\"\n",
    "get_answer(question)"
   ]
  },
  {
   "cell_type": "code",
   "execution_count": null,
   "metadata": {},
   "outputs": [],
   "source": []
  }
 ],
 "metadata": {
  "kernelspec": {
   "display_name": "rag",
   "language": "python",
   "name": "python3"
  },
  "language_info": {
   "codemirror_mode": {
    "name": "ipython",
    "version": 3
   },
   "file_extension": ".py",
   "mimetype": "text/x-python",
   "name": "python",
   "nbconvert_exporter": "python",
   "pygments_lexer": "ipython3",
   "version": "3.10.18"
  }
 },
 "nbformat": 4,
 "nbformat_minor": 2
}
